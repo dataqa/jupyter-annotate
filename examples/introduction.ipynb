{
 "cells": [
  {
   "cell_type": "code",
   "execution_count": 1,
   "id": "ef30f8e3-f583-4b8f-beda-27c5c0797f78",
   "metadata": {},
   "outputs": [],
   "source": [
    "import jupyterannotate"
   ]
  },
  {
   "cell_type": "markdown",
   "id": "36d45960-3b14-4a33-a7ab-06d506812b9e",
   "metadata": {},
   "source": [
    "# Basic Usage"
   ]
  },
  {
   "cell_type": "code",
   "execution_count": 2,
   "id": "06362c99-b674-4a4a-bfd5-159ba7c3d9fa",
   "metadata": {},
   "outputs": [],
   "source": [
    "LABELS = [\"Organization\", \"Product\", \"Person\", \"Country\", \"Date\", \"Quantity\"]\n",
    "\n",
    "NEWS_HEADLINES = [\n",
    "    \"Oracle introduced a new BI platform yesterday, Business Intelligence 10g that rolls up into one solution all of their BI tools. However, more interesting than the nitty-gritty details of what is included is the back story taking place at the same time.\",\n",
    "    \"Microsoft will delay the release of its SP2 update for another week to fix software glitches. But not everyone is quite so eager to install the SP2 update for Windows XP. In fact, many companies have demanded the ability to prevent their ...\",\n",
    "]"
   ]
  },
  {
   "cell_type": "code",
   "execution_count": 3,
   "id": "b0af5576-99f6-4c81-8411-37a44df69fc3",
   "metadata": {},
   "outputs": [
    {
     "data": {
      "application/vnd.jupyter.widget-view+json": {
       "model_id": "8d5464a00cae4edc9dc697aee834e684",
       "version_major": 2,
       "version_minor": 0
      },
      "text/plain": [
       "AnnotateWidget(value=None, docs=['Oracle introduced a new BI platform yesterday, Business Intelligence 10g tha…"
      ]
     },
     "metadata": {},
     "output_type": "display_data"
    }
   ],
   "source": [
    "# Instantiate widget\n",
    "annotation_widget = jupyterannotate.AnnotateWidget(\n",
    "    docs=NEWS_HEADLINES,\n",
    "    labels=LABELS,\n",
    "    spans=[\n",
    "      [\n",
    "        {'start': 0, 'end': 6, 'text': 'Oracle', 'label': 'Organization'},\n",
    "      ],\n",
    "      []\n",
    "    ]  \n",
    ")\n",
    "\n",
    "annotation_widget"
   ]
  },
  {
   "cell_type": "code",
   "execution_count": 4,
   "id": "926883f8-328f-4c2f-b7e7-99999c9cc6b1",
   "metadata": {},
   "outputs": [],
   "source": [
    "annotation_widget.spans = [\n",
    "    [\n",
    "        {'start': 0, 'end': 6, 'text': 'Oracle', 'label': 'Organization'},\n",
    "        {'start': 69, 'end': 72, 'text': '10g', 'label': 'Quantity'}\n",
    "    ],\n",
    "    []\n",
    "]"
   ]
  }
 ],
 "metadata": {
  "kernelspec": {
   "display_name": "Python 3 (ipykernel)",
   "language": "python",
   "name": "python3"
  },
  "language_info": {
   "codemirror_mode": {
    "name": "ipython",
    "version": 3
   },
   "file_extension": ".py",
   "mimetype": "text/x-python",
   "name": "python",
   "nbconvert_exporter": "python",
   "pygments_lexer": "ipython3",
   "version": "3.9.13"
  }
 },
 "nbformat": 4,
 "nbformat_minor": 5
}
