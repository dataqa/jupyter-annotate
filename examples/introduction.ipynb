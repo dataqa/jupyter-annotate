{
 "cells": [
  {
   "cell_type": "markdown",
   "metadata": {},
   "source": [
    "# Introduction"
   ]
  },
  {
   "cell_type": "code",
   "execution_count": 1,
   "metadata": {},
   "outputs": [],
   "source": [
    "import jupyterannotate"
   ]
  },
  {
   "cell_type": "code",
   "execution_count": 6,
   "metadata": {},
   "outputs": [
    {
     "data": {
      "application/vnd.jupyter.widget-view+json": {
       "model_id": "b9d65f4968cd49c29b1377a964688549",
       "version_major": 2,
       "version_minor": 0
      },
      "text/plain": [
       "ExampleWidget(value=None, labels=['person', 'date', 'org'], spans=[{'start': 6, 'end': 16, 'text': 'March 2014…"
      ]
     },
     "metadata": {},
     "output_type": "display_data"
    }
   ],
   "source": [
    "abstract = \"\"\"\n",
    "In a March 2014 interview, Apple designer Jonathan Ive used the iPhone as an example of Apple's ethos of creating high - quality, life - changing products. \n",
    "\"\"\"\n",
    "w = jupyterannotate.ExampleWidget(\n",
    "    text=abstract,\n",
    "    labels=[\"person\", \"date\", \"org\"],\n",
    "    spans=[{'start': 6, 'end': 16, 'text': 'March 2014', 'label': 'date'}, {'start': 43, 'end': 55, 'text': 'Jonathan Ive', 'label': 'person'}]\n",
    ")\n",
    "w"
   ]
  },
  {
   "cell_type": "code",
   "execution_count": 8,
   "metadata": {},
   "outputs": [
    {
     "data": {
      "text/plain": [
       "[{'start': 6, 'end': 16, 'text': 'March 2014', 'label': 'date'}]"
      ]
     },
     "execution_count": 8,
     "metadata": {},
     "output_type": "execute_result"
    }
   ],
   "source": [
    "w.spans"
   ]
  }
 ],
 "metadata": {
  "kernelspec": {
   "display_name": "Python 3 (ipykernel)",
   "language": "python",
   "name": "python3"
  },
  "language_info": {
   "codemirror_mode": {
    "name": "ipython",
    "version": 3
   },
   "file_extension": ".py",
   "mimetype": "text/x-python",
   "name": "python",
   "nbconvert_exporter": "python",
   "pygments_lexer": "ipython3",
   "version": "3.9.13"
  }
 },
 "nbformat": 4,
 "nbformat_minor": 4
}
