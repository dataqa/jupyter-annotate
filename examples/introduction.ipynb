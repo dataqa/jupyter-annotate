{
 "cells": [
  {
   "cell_type": "markdown",
   "metadata": {},
   "source": [
    "# Introduction"
   ]
  },
  {
   "cell_type": "code",
   "execution_count": 1,
   "metadata": {},
   "outputs": [],
   "source": [
    "import jupyterannotate"
   ]
  },
  {
   "cell_type": "code",
   "execution_count": 2,
   "metadata": {},
   "outputs": [
    {
     "data": {
      "application/vnd.jupyter.widget-view+json": {
       "model_id": "463a1771d5c140d6aedf856d7a8479b2",
       "version_major": 2,
       "version_minor": 0
      },
      "text/plain": [
       "AnnotateWidget(value=None, docs=['Background: Despite advances in targeted therapy, treatment options for meta…"
      ]
     },
     "metadata": {},
     "output_type": "display_data"
    }
   ],
   "source": [
    "docs = [\n",
    "  \"Background: Despite advances in targeted therapy, treatment options for metastatic NSCLC progressing after initial therapy remains limited. HSP90 is an ATP-dependent molecular chaperone that plays a vital role in protein stabilization. Some HSP90 client proteins are key regulators in cell proliferation and survival. Many mutant oncoproteins are more dependent on HSP90 for proper folding and stability compared to their wildtype counterparts. AUY922 potently inhibits HSP90, showing preclinical activity in a wide range of cancer cell lines, including NSCLC (1). Phase I clinical trials established 70 mg/m2 as the dose for further development (2). A single agent phase II trial demonstrated clinical activity of AUY922 in NSCLC, particularly molecular subsets with driver mutations in the known HSP90 client proteins, epidermal growth factor receptor (EGFR) and anaplastic lymphoma kinase (ALK) (3). Pemetrexed is a folate antimetabolite chemotherapeutic approved for use in advanced non-squamous, NSCLC. In pre-clinical models, mRNA for dihydrofolate reductase (DHFR), a target of pemetrexed, reliably decreased in response to AUY922 exposure (1). These findings suggest that the combination of AUY922 and premetrexed in NSCLC is worthy of investigation. Methods: Adult patients with previously treated stage IV non-squamous, NSCLC, measureable disease per RECIST 1.1, ECOG performance status < 2, and life expectancy > 3 months are eligible for this open label phase Ib clinical trial (NCT01784640). A standard 3 x 3 design will evaluate 3 cohorts, all with pemetrexed at the standard 500 mg/m2 dose, plus: AUY922 40 mg/m2, 55 mg/ m2, and 70 mg/m2 qwk. Enrollment of the 70 mg/m2 qwk cohort has been open since November 2014 and is currently ongoing. After the optimal dose for further evaluation is determined, an additional 20 patients will be enrolled at that dose. This expansion phase will focus on patients with EGFR mutations and ALK gene rearrangements. The primary endpoint is safety and tolerability of AUY922 combined with pemetrexed in patients with previously treated non-squamous NSCLC.\",\n",
    "  \"Cyclooxygenase-2 (COX-2) overexpression is associated with a poor prognosis in non-small-cell lung cancer (NSCLC) and may promote resistance to epidermal growth factor receptor inhibitors. This randomized phase 2 trial evaluated apricoxib, a novel COX-2 inhibitor, in combination with erlotinib in biomarker- selected patients. Patients with stage IIIB/IV NSCLC previously treated with platinum-based chemotherapy were randomized (2:1) to 400 mg/day apricoxib plus 150 mg/day erlotinib (AP/E) or placebo plus erlotinib (P/E) in 21-day cycles until disease progression or unacceptable toxicity. The primary endpoint was time to progression (TTP). A decrease of 50% or more from baseline urinary prostaglandin E2 metabolite after a 5-day, open- label, runin period was used to select eligible patients. One hundred twenty patients (median age 64 years) were randomized (78 to AP/E and 42 to P/E). Overall median TTP was 1.8 months in the AP/E group and 2.1 months in the P/E group, with a 12% objective response rate in both groups (intent-to-treat analysis). A subgroup analysis in patients aged 65 years or younger demonstrated a statistically significant TTP benefit for AP/E (hazard ratio 0.5 [95% confidence interval: not applicable-0.9]; p=0.018) and overall survival advantage at minimum 1-year follow-up (median 12.2 versus 4.0 months; hazard ratio=0.5; p=0.021). The most common adverse events were rash, diarrhea, fatigue, and nausea. Toxicity contributed to early discontinuations in patients aged more than 65 years treated with AP/E. This is the first randomized placebo-controlled study of a COX-2 inhibitor in NSCLC to use a prospective patient-selection strategy. Although AP/E seemed to improve TTP and overall survival in a subset of patients aged 65 years or younger, the primary endpoint of the trial was not met.\",\n",
    "  \"Background: Despite advances in targeted therapy, treatment options for metastatic NSCLC progressing after initial therapy remains limited. HSP90 is an ATP-dependent molecular chaperone that plays a vital role in protein stabilization. Some HSP90 client proteins are key regulators in cell proliferation and survival. Many mutant oncoproteins are more dependent on HSP90 for proper folding and stability compared to their wildtype counterparts. AUY922 potently inhibits HSP90, showing preclinical activity in a wide range of cancer cell lines, including NSCLC (1). Phase I clinical trials established 70 mg/m2 as the dose for further development (2). A single agent phase II trial demonstrated clinical activity of AUY922 in NSCLC, particularly molecular subsets with driver mutations in the known HSP90 client proteins, epidermal growth factor receptor (EGFR) and anaplastic lymphoma kinase (ALK) (3). Pemetrexed is a folate antimetabolite chemotherapeutic approved for use in advanced non-squamous, NSCLC. In pre-clinical models, mRNA for dihydrofolate reductase (DHFR), a target of pemetrexed, reliably decreased in response to AUY922 exposure (1). These findings suggest that the combination of AUY922 and premetrexed in NSCLC is worthy of investigation. Methods: Adult patients with previously treated stage IV non-squamous, NSCLC, measureable disease per RECIST 1.1, ECOG performance status < 2, and life expectancy > 3 months are eligible for this open label phase Ib clinical trial (NCT01784640). A standard 3 x 3 design will evaluate 3 cohorts, all with pemetrexed at the standard 500 mg/m2 dose, plus: AUY922 40 mg/m2, 55 mg/ m2, and 70 mg/m2 qwk. Enrollment of the 70 mg/m2 qwk cohort has been open since November 2014 and is currently ongoing. After the optimal dose for further evaluation is determined, an additional 20 patients will be enrolled at that dose. This expansion phase will focus on patients with EGFR mutations and ALK gene rearrangements. The primary endpoint is safety and tolerability of AUY922 combined with pemetrexed in patients with previously treated non-squamous NSCLC.\",\n",
    "  \"We investigated the influence of interfraction interval (IFI) on treatment outcome in patients with stage III non-small-cell lung cancer (NSCLC) treated with hyperfractionated radiation therapy (Hfx RT) with or without concurrent chemotherapy (CHT). During 3 randomized phase III and 1 phase II study, a total of 536 patients were treated with Hfx RT alone or with concurrent carboplatin/etoposide. Two hundred eighty-five patients were treated with IFI of 4.5-5.0 hours, while 251 patients were treated with IFI of 5.5-6.0 hours. (4.5-5.0 hours) IFI led to better overall survival (OS) (P = 0.0000) and local recurrence-free survival (LRFS) (P = 0.0000). Multivariate analyses showed IFI to be an independent prognosticator of both OS and LRFS. These results were confirmed when we separated all patients (n = 536) into those treated with Hfx RT only (n = 127) and those treated with concur-rent RT/CHT (n = 409). Various RT-related high-grade acute toxicity was not different between the 2 IFI, but patients treated with shorter IFI had a significantly higher incidence of hematological toxicity (P = 0.002). None of the late high-grade toxicities were different between the 2 interfraction intervals. Using regression analysis, it was shown that IFI was not a significant predictor of any of acute or late high-grade (=3) toxicity. IFI is an important prognosticator of OS and LRFS in patients with stage III NSCLC treated with Hfx RT with or without concurrent carboplatin/etoposide. IFI led to higher incidence only of hematological toxicity, but was not predictive of any acute or late high-grade (=3) toxicity. A carefully designed randomized trial seems necessary to give better insight into the issue of optimal IFI in this disease.\",\n",
    "\n",
    "]\n",
    "\n",
    "initial_spans = [[{'start': 72,\n",
    "   'end': 88,\n",
    "   'text': 'metastatic NSCLC',\n",
    "   'label': {'text': 'condition', 'color': 'red'}},\n",
    "  {'start': 140,\n",
    "   'end': 145,\n",
    "   'text': 'HSP90',\n",
    "   'label': {'text': 'intervention', 'color': 'cyan'}},\n",
    "  {'start': 445,\n",
    "   'end': 451,\n",
    "   'text': 'AUY922',\n",
    "   'label': {'text': 'intervention', 'color': 'cyan'}},\n",
    "  {'start': 725,\n",
    "   'end': 730,\n",
    "   'text': 'NSCLC',\n",
    "   'label': {'text': 'condition', 'color': 'red'}},\n",
    "  {'start': 903,\n",
    "   'end': 913,\n",
    "   'text': 'Pemetrexed',\n",
    "   'label': {'text': 'intervention', 'color': 'cyan'}},\n",
    "  {'start': 1991,\n",
    "   'end': 2014,\n",
    "   'text': 'safety and tolerability',\n",
    "   'label': {'text': 'outcome', 'color': 'amber'}},\n",
    "  {'start': 2039,\n",
    "   'end': 2049,\n",
    "   'text': 'pemetrexed',\n",
    "   'label': {'text': 'intervention', 'color': 'cyan'}},\n",
    "  {'start': 2086,\n",
    "   'end': 2104,\n",
    "   'text': 'non-squamous NSCLC',\n",
    "   'label': {'text': 'condition', 'color': 'red'}}],\n",
    " [{'start': 0,\n",
    "   'end': 16,\n",
    "   'text': 'Cyclooxygenase-2',\n",
    "   'label': {'text': 'intervention', 'color': 'cyan'}},\n",
    "  {'start': 78,\n",
    "   'end': 105,\n",
    "   'text': ' non-small-cell lung cancer',\n",
    "   'label': {'text': 'condition', 'color': 'red'}},\n",
    "  {'start': 107,\n",
    "   'end': 112,\n",
    "   'text': 'NSCLC',\n",
    "   'label': {'text': 'condition', 'color': 'red'}},\n",
    "  {'start': 356,\n",
    "   'end': 361,\n",
    "   'text': 'NSCLC',\n",
    "   'label': {'text': 'condition', 'color': 'red'}},\n",
    "  {'start': 401,\n",
    "   'end': 413,\n",
    "   'text': 'chemotherapy',\n",
    "   'label': {'text': 'intervention', 'color': 'cyan'}},\n",
    "  {'start': 496,\n",
    "   'end': 503,\n",
    "   'text': 'placebo',\n",
    "   'label': {'text': 'intervention', 'color': 'cyan'}},\n",
    "  {'start': 509,\n",
    "   'end': 518,\n",
    "   'text': 'erlotinib',\n",
    "   'label': {'text': 'intervention', 'color': 'cyan'}},\n",
    "  {'start': 1710,\n",
    "   'end': 1713,\n",
    "   'text': 'TTP',\n",
    "   'label': {'text': 'outcome', 'color': 'amber'}},\n",
    "  {'start': 1718,\n",
    "   'end': 1734,\n",
    "   'text': 'overall survival',\n",
    "   'label': {'text': 'outcome', 'color': 'amber'}}],\n",
    " [{'start': 83,\n",
    "   'end': 88,\n",
    "   'text': 'NSCLC',\n",
    "   'label': {'text': 'condition', 'color': 'red'}},\n",
    "  {'start': 1563,\n",
    "   'end': 1573,\n",
    "   'text': 'pemetrexed',\n",
    "   'label': {'text': 'condition', 'color': 'red'}}],\n",
    " [{'start': 110,\n",
    "   'end': 136,\n",
    "   'text': 'non-small-cell lung cancer',\n",
    "   'label': 'condition'}]]\n",
    "\n",
    "other = jupyterannotate.AnnotateWidget(\n",
    "    docs=docs,\n",
    "    spans=initial_spans,\n",
    "    labels=[\"condition\", \"intervention\", \"outcome\"],\n",
    ")\n",
    "other"
   ]
  },
  {
   "cell_type": "code",
   "execution_count": 3,
   "metadata": {},
   "outputs": [
    {
     "data": {
      "text/plain": [
       "[[{'start': 72,\n",
       "   'end': 88,\n",
       "   'text': 'metastatic NSCLC',\n",
       "   'label': {'text': 'condition', 'color': 'red'}},\n",
       "  {'start': 140,\n",
       "   'end': 145,\n",
       "   'text': 'HSP90',\n",
       "   'label': {'text': 'intervention', 'color': 'cyan'}},\n",
       "  {'start': 445,\n",
       "   'end': 451,\n",
       "   'text': 'AUY922',\n",
       "   'label': {'text': 'intervention', 'color': 'cyan'}},\n",
       "  {'start': 725,\n",
       "   'end': 730,\n",
       "   'text': 'NSCLC',\n",
       "   'label': {'text': 'condition', 'color': 'red'}},\n",
       "  {'start': 903,\n",
       "   'end': 913,\n",
       "   'text': 'Pemetrexed',\n",
       "   'label': {'text': 'intervention', 'color': 'cyan'}},\n",
       "  {'start': 1991,\n",
       "   'end': 2014,\n",
       "   'text': 'safety and tolerability',\n",
       "   'label': {'text': 'outcome', 'color': 'amber'}},\n",
       "  {'start': 2039,\n",
       "   'end': 2049,\n",
       "   'text': 'pemetrexed',\n",
       "   'label': {'text': 'intervention', 'color': 'cyan'}},\n",
       "  {'start': 2086,\n",
       "   'end': 2104,\n",
       "   'text': 'non-squamous NSCLC',\n",
       "   'label': {'text': 'condition', 'color': 'red'}}],\n",
       " [{'start': 0,\n",
       "   'end': 16,\n",
       "   'text': 'Cyclooxygenase-2',\n",
       "   'label': {'text': 'intervention', 'color': 'cyan'}},\n",
       "  {'start': 78,\n",
       "   'end': 105,\n",
       "   'text': ' non-small-cell lung cancer',\n",
       "   'label': {'text': 'condition', 'color': 'red'}},\n",
       "  {'start': 107,\n",
       "   'end': 112,\n",
       "   'text': 'NSCLC',\n",
       "   'label': {'text': 'condition', 'color': 'red'}},\n",
       "  {'start': 356,\n",
       "   'end': 361,\n",
       "   'text': 'NSCLC',\n",
       "   'label': {'text': 'condition', 'color': 'red'}},\n",
       "  {'start': 401,\n",
       "   'end': 413,\n",
       "   'text': 'chemotherapy',\n",
       "   'label': {'text': 'intervention', 'color': 'cyan'}},\n",
       "  {'start': 496,\n",
       "   'end': 503,\n",
       "   'text': 'placebo',\n",
       "   'label': {'text': 'intervention', 'color': 'cyan'}},\n",
       "  {'start': 509,\n",
       "   'end': 518,\n",
       "   'text': 'erlotinib',\n",
       "   'label': {'text': 'intervention', 'color': 'cyan'}},\n",
       "  {'start': 1710,\n",
       "   'end': 1713,\n",
       "   'text': 'TTP',\n",
       "   'label': {'text': 'outcome', 'color': 'amber'}},\n",
       "  {'start': 1718,\n",
       "   'end': 1734,\n",
       "   'text': 'overall survival',\n",
       "   'label': {'text': 'outcome', 'color': 'amber'}}],\n",
       " [{'start': 83,\n",
       "   'end': 88,\n",
       "   'text': 'NSCLC',\n",
       "   'label': {'text': 'condition', 'color': 'red'}},\n",
       "  {'start': 1563,\n",
       "   'end': 1573,\n",
       "   'text': 'pemetrexed',\n",
       "   'label': {'text': 'condition', 'color': 'red'}}],\n",
       " [{'start': 110,\n",
       "   'end': 136,\n",
       "   'text': 'non-small-cell lung cancer',\n",
       "   'label': 'condition'}]]"
      ]
     },
     "execution_count": 3,
     "metadata": {},
     "output_type": "execute_result"
    }
   ],
   "source": [
    "other.spans"
   ]
  },
  {
   "cell_type": "code",
   "execution_count": 4,
   "metadata": {},
   "outputs": [
    {
     "data": {
      "application/vnd.jupyter.widget-view+json": {
       "model_id": "4325344f65d74f2395156d93b851ae8e",
       "version_major": 2,
       "version_minor": 0
      },
      "text/plain": [
       "AnnotateWidget(value=None, docs=['Background: Despite advances in targeted therapy, treatment options for meta…"
      ]
     },
     "metadata": {},
     "output_type": "display_data"
    }
   ],
   "source": [
    "docs = [\n",
    "  \"Background: Despite advances in targeted therapy, treatment options for metastatic NSCLC progressing after initial therapy remains limited. HSP90 is an ATP-dependent molecular chaperone that plays a vital role in protein stabilization. Some HSP90 client proteins are key regulators in cell proliferation and survival. Many mutant oncoproteins are more dependent on HSP90 for proper folding and stability compared to their wildtype counterparts. AUY922 potently inhibits HSP90, showing preclinical activity in a wide range of cancer cell lines, including NSCLC (1). Phase I clinical trials established 70 mg/m2 as the dose for further development (2). A single agent phase II trial demonstrated clinical activity of AUY922 in NSCLC, particularly molecular subsets with driver mutations in the known HSP90 client proteins, epidermal growth factor receptor (EGFR) and anaplastic lymphoma kinase (ALK) (3). Pemetrexed is a folate antimetabolite chemotherapeutic approved for use in advanced non-squamous, NSCLC. In pre-clinical models, mRNA for dihydrofolate reductase (DHFR), a target of pemetrexed, reliably decreased in response to AUY922 exposure (1). These findings suggest that the combination of AUY922 and premetrexed in NSCLC is worthy of investigation. Methods: Adult patients with previously treated stage IV non-squamous, NSCLC, measureable disease per RECIST 1.1, ECOG performance status < 2, and life expectancy > 3 months are eligible for this open label phase Ib clinical trial (NCT01784640). A standard 3 x 3 design will evaluate 3 cohorts, all with pemetrexed at the standard 500 mg/m2 dose, plus: AUY922 40 mg/m2, 55 mg/ m2, and 70 mg/m2 qwk. Enrollment of the 70 mg/m2 qwk cohort has been open since November 2014 and is currently ongoing. After the optimal dose for further evaluation is determined, an additional 20 patients will be enrolled at that dose. This expansion phase will focus on patients with EGFR mutations and ALK gene rearrangements. The primary endpoint is safety and tolerability of AUY922 combined with pemetrexed in patients with previously treated non-squamous NSCLC.\"\n",
    "]\n",
    "jupyterannotate.AnnotateWidget(\n",
    "    docs=docs,\n",
    "    spans=initial_spans,\n",
    "    labels=[f\"Label {x}\" for x in range(0,100)],\n",
    ")"
   ]
  }
 ],
 "metadata": {
  "kernelspec": {
   "display_name": "Python 3 (ipykernel)",
   "language": "python",
   "name": "python3"
  },
  "language_info": {
   "codemirror_mode": {
    "name": "ipython",
    "version": 3
   },
   "file_extension": ".py",
   "mimetype": "text/x-python",
   "name": "python",
   "nbconvert_exporter": "python",
   "pygments_lexer": "ipython3",
   "version": "3.9.13"
  }
 },
 "nbformat": 4,
 "nbformat_minor": 4
}
